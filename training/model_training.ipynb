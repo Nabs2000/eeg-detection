{
 "cells": [
  {
   "cell_type": "markdown",
   "id": "e9ba7307",
   "metadata": {},
   "source": [
    "# Model Training"
   ]
  },
  {
   "cell_type": "code",
   "execution_count": 16,
   "id": "ec392536",
   "metadata": {},
   "outputs": [],
   "source": [
    "import sys\n",
    "import os\n",
    "\n",
    "# Add the project root to the Python path\n",
    "sys.path.append(os.path.abspath(os.path.join('..')))\n",
    "\n",
    "import torch\n",
    "import torch.nn as nn\n",
    "from models.models import TinyEEGCNN, TrainConfig\n",
    "from data.dataset import CustomEEGDataset\n",
    "from torch.utils.data import DataLoader, random_split"
   ]
  },
  {
   "cell_type": "code",
   "execution_count": 17,
   "id": "b03c4296",
   "metadata": {},
   "outputs": [],
   "source": [
    "def train_one_epoch(model, loader, optimizer, loss_fn, device, grad_clip=1.0):\n",
    "    model.train()\n",
    "    total_loss = 0.0\n",
    "    for x, y in loader:\n",
    "        x = x.to(device)                  # [B, 1, L]\n",
    "        y = y.to(device).float().unsqueeze(1)  # [B, 1]\n",
    "        optimizer.zero_grad()\n",
    "        logit = model(x)                  # [B, 1]\n",
    "        loss = loss_fn(logit, y)\n",
    "        loss.backward()\n",
    "        if grad_clip is not None:\n",
    "            nn.utils.clip_grad_norm_(model.parameters(), grad_clip)\n",
    "        optimizer.step()\n",
    "        total_loss += loss.item() * x.size(0)\n",
    "    return total_loss / len(loader.dataset)\n",
    "\n",
    "@torch.no_grad()\n",
    "def infer_probs(model, loader, device):\n",
    "    model.eval()\n",
    "    probs, ys = [], []\n",
    "    for x, y in loader:\n",
    "        x = x.to(device)\n",
    "        logit = model(x)\n",
    "        p = torch.sigmoid(logit).squeeze(1).cpu().numpy()\n",
    "        probs.append(p)\n",
    "        ys.append(y.numpy())\n",
    "    return np.concatenate(ys), np.concatenate(probs)"
   ]
  },
  {
   "cell_type": "code",
   "execution_count": 21,
   "id": "fd5c7cdf",
   "metadata": {},
   "outputs": [
    {
     "ename": "NameError",
     "evalue": "name 'torch' is not defined",
     "output_type": "error",
     "traceback": [
      "\u001b[31m---------------------------------------------------------------------------\u001b[39m",
      "\u001b[31mNameError\u001b[39m                                 Traceback (most recent call last)",
      "\u001b[36mCell\u001b[39m\u001b[36m \u001b[39m\u001b[32mIn[21]\u001b[39m\u001b[32m, line 9\u001b[39m\n\u001b[32m      5\u001b[39m train_loader = DataLoader(train_dataset, batch_size=cfg.batch_size, shuffle=\u001b[38;5;28;01mTrue\u001b[39;00m)\n\u001b[32m      6\u001b[39m test_loader = DataLoader(test_dataset, batch_size=cfg.batch_size, shuffle=\u001b[38;5;28;01mFalse\u001b[39;00m)\n\u001b[32m----> \u001b[39m\u001b[32m9\u001b[39m \u001b[38;5;28mprint\u001b[39m(\u001b[43mtrain_dataset\u001b[49m\u001b[43m[\u001b[49m\u001b[32;43m0\u001b[39;49m\u001b[43m]\u001b[49m)\n\u001b[32m     10\u001b[39m \u001b[38;5;66;03m# pos = (train_dataset.y == 1).sum()\u001b[39;00m\n\u001b[32m     11\u001b[39m \u001b[38;5;66;03m# neg = (train_dataset.y == 0).sum()\u001b[39;00m\n\u001b[32m     12\u001b[39m \u001b[38;5;66;03m# pos_weight = torch.tensor([neg / max(pos, 1)], dtype=torch.float32, device=cfg.device)\u001b[39;00m\n\u001b[32m     13\u001b[39m \u001b[38;5;66;03m# print(pos_weight)\u001b[39;00m\n\u001b[32m     14\u001b[39m \u001b[38;5;66;03m# model = TinyEEGCNN()\u001b[39;00m\n",
      "\u001b[36mFile \u001b[39m\u001b[32mc:\\dev\\eeg-detection\\.venv\\Lib\\site-packages\\torch\\utils\\data\\dataset.py:408\u001b[39m, in \u001b[36mSubset.__getitem__\u001b[39m\u001b[34m(self, idx)\u001b[39m\n\u001b[32m    406\u001b[39m \u001b[38;5;28;01mif\u001b[39;00m \u001b[38;5;28misinstance\u001b[39m(idx, \u001b[38;5;28mlist\u001b[39m):\n\u001b[32m    407\u001b[39m     \u001b[38;5;28;01mreturn\u001b[39;00m \u001b[38;5;28mself\u001b[39m.dataset[[\u001b[38;5;28mself\u001b[39m.indices[i] \u001b[38;5;28;01mfor\u001b[39;00m i \u001b[38;5;129;01min\u001b[39;00m idx]]\n\u001b[32m--> \u001b[39m\u001b[32m408\u001b[39m \u001b[38;5;28;01mreturn\u001b[39;00m \u001b[38;5;28;43mself\u001b[39;49m\u001b[43m.\u001b[49m\u001b[43mdataset\u001b[49m\u001b[43m[\u001b[49m\u001b[38;5;28;43mself\u001b[39;49m\u001b[43m.\u001b[49m\u001b[43mindices\u001b[49m\u001b[43m[\u001b[49m\u001b[43midx\u001b[49m\u001b[43m]\u001b[49m\u001b[43m]\u001b[49m\n",
      "\u001b[36mFile \u001b[39m\u001b[32mc:\\dev\\eeg-detection\\data\\dataset.py:18\u001b[39m, in \u001b[36mCustomEEGDataset.__getitem__\u001b[39m\u001b[34m(self, idx)\u001b[39m\n\u001b[32m     17\u001b[39m \u001b[38;5;28;01mdef\u001b[39;00m\u001b[38;5;250m \u001b[39m\u001b[34m__getitem__\u001b[39m(\u001b[38;5;28mself\u001b[39m, idx):\n\u001b[32m---> \u001b[39m\u001b[32m18\u001b[39m     \u001b[38;5;28;01mif\u001b[39;00m \u001b[43mtorch\u001b[49m.is_tensor(idx):\n\u001b[32m     19\u001b[39m         idx = idx.item()\n\u001b[32m     20\u001b[39m     x = torch.from_numpy(\u001b[38;5;28mself\u001b[39m.X[idx]).unsqueeze(\u001b[32m0\u001b[39m)\n",
      "\u001b[31mNameError\u001b[39m: name 'torch' is not defined"
     ]
    }
   ],
   "source": [
    "cfg = TrainConfig()\n",
    "\n",
    "eeg_dataset = CustomEEGDataset(cfg.csv_path)\n",
    "train_dataset, test_dataset = random_split(eeg_dataset, [0.8, 0.2])\n",
    "train_loader = DataLoader(train_dataset, batch_size=cfg.batch_size, shuffle=True)\n",
    "test_loader = DataLoader(test_dataset, batch_size=cfg.batch_size, shuffle=False)\n",
    "\n",
    "\n",
    "print(train_dataset[0])\n",
    "# pos = (train_dataset.y == 1).sum()\n",
    "# neg = (train_dataset.y == 0).sum()\n",
    "# pos_weight = torch.tensor([neg / max(pos, 1)], dtype=torch.float32, device=cfg.device)\n",
    "# print(pos_weight)\n",
    "# model = TinyEEGCNN()\n",
    "\n"
   ]
  },
  {
   "cell_type": "code",
   "execution_count": null,
   "id": "53bb651e",
   "metadata": {},
   "outputs": [],
   "source": []
  }
 ],
 "metadata": {
  "kernelspec": {
   "display_name": ".venv",
   "language": "python",
   "name": "python3"
  },
  "language_info": {
   "codemirror_mode": {
    "name": "ipython",
    "version": 3
   },
   "file_extension": ".py",
   "mimetype": "text/x-python",
   "name": "python",
   "nbconvert_exporter": "python",
   "pygments_lexer": "ipython3",
   "version": "3.11.11"
  }
 },
 "nbformat": 4,
 "nbformat_minor": 5
}
