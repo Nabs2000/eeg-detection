{
 "cells": [
  {
   "cell_type": "markdown",
   "id": "73b3055b",
   "metadata": {},
   "source": [
    "# Data Processing\n",
    "\n",
    "This notebook processes the EEG data into DataLoaders to be fed into a 1D CNN model"
   ]
  },
  {
   "cell_type": "markdown",
   "id": "9c9c554e",
   "metadata": {},
   "source": [
    "## Step 0: Preprocessing"
   ]
  },
  {
   "cell_type": "code",
   "execution_count": 27,
   "id": "61e60e9b",
   "metadata": {},
   "outputs": [],
   "source": [
    "import pandas as pd"
   ]
  },
  {
   "cell_type": "code",
   "execution_count": 34,
   "id": "46350cdf",
   "metadata": {},
   "outputs": [
    {
     "name": "stdout",
     "output_type": "stream",
     "text": [
      "y\n",
      "4    2300\n",
      "1    2300\n",
      "5    2300\n",
      "2    2300\n",
      "3    2300\n",
      "Name: count, dtype: int64\n",
      "y\n",
      "0    9200\n",
      "1    2300\n",
      "Name: count, dtype: int64\n"
     ]
    }
   ],
   "source": [
    "DATA_FP = \"data.csv\"\n",
    "df = pd.read_csv(DATA_FP)\n",
    "print(df['y'].value_counts())\n",
    "df['y'] = df['y'].replace([2, 3, 4, 5], 0)\n",
    "print(df['y'].value_counts())\n",
    "df.to_csv(\"data_preprocessed.csv\", index=False)"
   ]
  },
  {
   "cell_type": "markdown",
   "id": "033182d1",
   "metadata": {},
   "source": [
    "## Step 1: DataLoader"
   ]
  },
  {
   "cell_type": "code",
   "execution_count": 40,
   "id": "d6093f56",
   "metadata": {},
   "outputs": [],
   "source": [
    "import pandas as pd\n",
    "import numpy as np\n",
    "import torch\n",
    "from torch.utils.data import DataLoader, Dataset, random_split"
   ]
  },
  {
   "cell_type": "code",
   "execution_count": 37,
   "id": "7204a20a",
   "metadata": {},
   "outputs": [],
   "source": [
    "class CustomEEGDataset(Dataset):\n",
    "    def __init__(self, annotations_file):\n",
    "        df = pd.read_csv(annotations_file)\n",
    "\n",
    "        self.X = df.iloc[:, 1:-1].to_numpy(dtype=np.float32)\n",
    "        y = df.iloc[:, -1]\n",
    "        y = y.astype(np.int64)\n",
    "        self.y = y.to_numpy()\n",
    "\n",
    "    def __len__(self):\n",
    "        return self.X.shape[0]\n",
    "\n",
    "    def __getitem__(self, idx):\n",
    "        if torch.is_tensor(idx):\n",
    "            idx = idx.item()\n",
    "        x = torch.from_numpy(self.X[idx]).unsqueeze(0)\n",
    "        y = torch.as_tensor(self.y[idx])\n",
    "        \n",
    "        return x, y\n"
   ]
  },
  {
   "cell_type": "code",
   "execution_count": 38,
   "id": "9a3c1fc4",
   "metadata": {},
   "outputs": [],
   "source": [
    "DATA_FP = \"data_preprocessed.csv\"\n",
    "\n",
    "eeg_dataset = CustomEEGDataset(annotations_file=DATA_FP)\n",
    "x, y = eeg_dataset[0]"
   ]
  },
  {
   "cell_type": "code",
   "execution_count": 39,
   "id": "c86a31f4",
   "metadata": {},
   "outputs": [
    {
     "data": {
      "text/plain": [
       "(tensor([[ 135.,  190.,  229.,  223.,  192.,  125.,   55.,   -9.,  -33.,  -38.,\n",
       "           -10.,   35.,   64.,  113.,  152.,  164.,  127.,   50.,  -47., -121.,\n",
       "          -138., -125., -101.,  -50.,   11.,   39.,   24.,   48.,   64.,   46.,\n",
       "            13.,  -19.,  -61.,  -96., -130., -132., -116., -115.,  -71.,  -14.,\n",
       "            25.,   19.,    6.,    9.,   21.,   13.,  -37.,  -58.,  -33.,    5.,\n",
       "            47.,   80.,  101.,   88.,   73.,   69.,   41.,  -13.,  -31.,  -61.,\n",
       "           -80.,  -77.,  -66.,  -43.,    5.,   87.,  129.,  121.,   88.,   12.,\n",
       "           -76., -150., -207., -186., -165., -148., -103.,  -33.,   40.,   94.,\n",
       "            75.,    8.,  -81., -155., -227., -262., -233., -218., -187., -126.,\n",
       "           -65.,  -12.,   27.,   61.,   49.,    9.,  -46., -124., -210., -281.,\n",
       "          -265., -181.,  -89.,   -4.,   53.,   53.,   38.,   43.,   31.,   34.,\n",
       "             9.,   -7.,  -34.,  -70.,  -84., -101.,  -70.,  -11.,   42.,   62.,\n",
       "            66.,   74.,   64.,   59.,   56.,   36.,  -11.,  -30.,  -43.,  -23.,\n",
       "             8.,   42.,   77.,  103.,  135.,  121.,   79.,   59.,   43.,   54.,\n",
       "            90.,  111.,  107.,   64.,   32.,   18.,  -25.,  -69.,  -65.,  -44.,\n",
       "           -33.,  -57.,  -88., -114., -130., -114.,  -83.,  -53.,  -79.,  -72.,\n",
       "           -85., -109.,  -98.,  -72.,  -65.,  -63.,  -11.,   10.,    8.,  -17.,\n",
       "           -15.,  -31.,  -77., -103., -127., -116.,  -83.,  -51.]]),\n",
       " tensor(0))"
      ]
     },
     "execution_count": 39,
     "metadata": {},
     "output_type": "execute_result"
    }
   ],
   "source": [
    "x, y"
   ]
  },
  {
   "cell_type": "code",
   "execution_count": 42,
   "id": "46ec0d49",
   "metadata": {},
   "outputs": [
    {
     "data": {
      "text/plain": [
       "(<torch.utils.data.dataset.Subset at 0x21f3b7c9050>,\n",
       " <torch.utils.data.dataset.Subset at 0x21f3d1c9590>)"
      ]
     },
     "execution_count": 42,
     "metadata": {},
     "output_type": "execute_result"
    }
   ],
   "source": [
    "train_dataset, test_dataset = random_split(eeg_dataset, [0.8, 0.2])\n",
    "train_dataset, test_dataset"
   ]
  },
  {
   "cell_type": "code",
   "execution_count": 43,
   "id": "cd83672d",
   "metadata": {},
   "outputs": [],
   "source": [
    "# Dataloaders\n",
    "train_dataloader = DataLoader(train_dataset, batch_size=64, shuffle=True)\n",
    "test_dataloader = DataLoader(test_dataset, batch_size=64, shuffle=True)\n"
   ]
  },
  {
   "cell_type": "code",
   "execution_count": null,
   "id": "08ac0a10",
   "metadata": {},
   "outputs": [],
   "source": []
  }
 ],
 "metadata": {
  "kernelspec": {
   "display_name": ".venv",
   "language": "python",
   "name": "python3"
  },
  "language_info": {
   "codemirror_mode": {
    "name": "ipython",
    "version": 3
   },
   "file_extension": ".py",
   "mimetype": "text/x-python",
   "name": "python",
   "nbconvert_exporter": "python",
   "pygments_lexer": "ipython3",
   "version": "3.11.11"
  }
 },
 "nbformat": 4,
 "nbformat_minor": 5
}
